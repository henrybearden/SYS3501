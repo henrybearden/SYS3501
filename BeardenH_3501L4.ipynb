{
  "nbformat": 4,
  "nbformat_minor": 0,
  "metadata": {
    "colab": {
      "provenance": [],
      "authorship_tag": "ABX9TyMjN/jKKCD/1tq3ygSkmHle",
      "include_colab_link": true
    },
    "kernelspec": {
      "name": "python3",
      "display_name": "Python 3"
    },
    "language_info": {
      "name": "python"
    }
  },
  "cells": [
    {
      "cell_type": "markdown",
      "metadata": {
        "id": "view-in-github",
        "colab_type": "text"
      },
      "source": [
        "<a href=\"https://colab.research.google.com/github/henrybearden/SYS3501/blob/main/BeardenH_3501L4.ipynb\" target=\"_parent\"><img src=\"https://colab.research.google.com/assets/colab-badge.svg\" alt=\"Open In Colab\"/></a>"
      ]
    },
    {
      "cell_type": "code",
      "execution_count": 2,
      "metadata": {
        "id": "mVq_GkHdog2j"
      },
      "outputs": [],
      "source": [
        "import seaborn as sns\n",
        "iris = sns.load_dataset('iris')"
      ]
    },
    {
      "cell_type": "code",
      "source": [
        "# 20\n",
        "\n",
        "print(iris.loc[iris['species'] == 'virginica', 'sepal_width'].min())"
      ],
      "metadata": {
        "colab": {
          "base_uri": "https://localhost:8080/"
        },
        "id": "3Jkvgijhpkp0",
        "outputId": "afe71232-53c2-495b-b23f-cb9c5f060b02"
      },
      "execution_count": 3,
      "outputs": [
        {
          "output_type": "stream",
          "name": "stdout",
          "text": [
            "2.2\n"
          ]
        }
      ]
    },
    {
      "cell_type": "code",
      "source": [
        "#21\n",
        "mean_petal_length = iris['petal_length'].mean()\n",
        "iris_filtered = iris[iris['petal_length'] > mean_petal_length]\n",
        "print(len(iris_filtered))\n"
      ],
      "metadata": {
        "colab": {
          "base_uri": "https://localhost:8080/"
        },
        "id": "meHRx6f0ryrD",
        "outputId": "c8d124ad-7378-40f9-bfe5-88213d81779c"
      },
      "execution_count": null,
      "outputs": [
        {
          "output_type": "stream",
          "name": "stdout",
          "text": [
            "93\n"
          ]
        }
      ]
    },
    {
      "cell_type": "code",
      "source": [
        "#22\n",
        "\n",
        "\n",
        "print(len(iris[iris['species'] == 'versicolor']))\n",
        "\n",
        "print(iris['sepal_length'].mean())\n",
        "\n",
        "print(iris['species'].unique())\n",
        "\n",
        "print(len(iris[iris['species'] == 'virginica']))"
      ],
      "metadata": {
        "colab": {
          "base_uri": "https://localhost:8080/"
        },
        "id": "8KBKtkwjrFO_",
        "outputId": "fd0361c4-73e2-4515-b5a9-330ce7eda7df"
      },
      "execution_count": null,
      "outputs": [
        {
          "output_type": "stream",
          "name": "stdout",
          "text": [
            "50\n",
            "5.843333333333334\n",
            "['setosa' 'versicolor' 'virginica']\n",
            "50\n"
          ]
        }
      ]
    },
    {
      "cell_type": "code",
      "source": [
        "#23\n",
        "\n",
        "import pandas as pd\n",
        "import numpy as np\n",
        "\n",
        "iris = sns.load_dataset('iris')\n",
        "\n",
        "numerical_iris = iris.select_dtypes(include=np.number)\n",
        "\n",
        "correlation_matrix = numerical_iris.corr(method='pearson')\n",
        "\n",
        "correlation_matrix = correlation_matrix.mask(np.equal(*np.indices(correlation_matrix.shape)))\n",
        "\n",
        "max_correlation = correlation_matrix.max().max()\n",
        "row, col = correlation_matrix[correlation_matrix == max_correlation].stack().idxmax()\n",
        "\n",
        "print(row)\n",
        "print(col)"
      ],
      "metadata": {
        "colab": {
          "base_uri": "https://localhost:8080/"
        },
        "id": "-w4etzs-s19p",
        "outputId": "0571f4f9-ce8a-4f4d-f4f6-b40cada772d1"
      },
      "execution_count": null,
      "outputs": [
        {
          "output_type": "stream",
          "name": "stdout",
          "text": [
            "petal_length\n",
            "petal_width\n"
          ]
        }
      ]
    },
    {
      "cell_type": "code",
      "source": [
        "# 24\n",
        "print(iris.loc[iris['species'] == 'setosa', 'petal_length'].mean())\n",
        "\n",
        "max_sepal_width = iris.groupby('species')['sepal_width'].max()\n",
        "print(max_sepal_width.idxmax())\n",
        "\n",
        "print(iris.loc[iris['species'] == 'setosa', 'sepal_length'].std())\n",
        "\n",
        "max_sepal_length = iris.groupby('species')['sepal_length'].max()\n",
        "print(max_sepal_length.idxmax())"
      ],
      "metadata": {
        "colab": {
          "base_uri": "https://localhost:8080/"
        },
        "id": "EHYLg8rFu7GK",
        "outputId": "36ac70cb-a73c-48a4-88a9-7de6c0abfa23"
      },
      "execution_count": null,
      "outputs": [
        {
          "output_type": "stream",
          "name": "stdout",
          "text": [
            "1.4620000000000002\n",
            "setosa\n",
            "0.3524896872134512\n",
            "virginica\n"
          ]
        }
      ]
    },
    {
      "cell_type": "code",
      "source": [
        "import seaborn as sns\n",
        "titanic = sns.load_dataset('titanic')"
      ],
      "metadata": {
        "id": "RB_TNSOtwuHW"
      },
      "execution_count": null,
      "outputs": []
    },
    {
      "cell_type": "code",
      "source": [
        "#25\n",
        "survived_second_class_passengers = titanic[(titanic['pclass'] == 2) & (titanic['survived'] == 1)]\n",
        "print(len(survived_second_class_passengers))"
      ],
      "metadata": {
        "colab": {
          "base_uri": "https://localhost:8080/"
        },
        "id": "g-UQdEjqwvq0",
        "outputId": "56bf375e-65ef-4a54-b04e-4742da82c00b"
      },
      "execution_count": null,
      "outputs": [
        {
          "output_type": "stream",
          "name": "stdout",
          "text": [
            "87\n"
          ]
        }
      ]
    },
    {
      "cell_type": "code",
      "source": [
        "#26\n",
        "titanic = sns.load_dataset('titanic')\n",
        "\n",
        "first_class_not_survived = titanic[(titanic['pclass'] == 1) & (titanic['survived'] == 0)]\n",
        "\n",
        "if not first_class_not_survived.empty:\n",
        "  min_age = first_class_not_survived['age'].min()\n",
        "  max_age = first_class_not_survived['age'].max()\n",
        "  print(min_age)\n",
        "  print(max_age)\n"
      ],
      "metadata": {
        "colab": {
          "base_uri": "https://localhost:8080/"
        },
        "id": "9egzgFo0xh32",
        "outputId": "0b38a0d3-5026-44fb-ee96-0705e9687f7a"
      },
      "execution_count": null,
      "outputs": [
        {
          "output_type": "stream",
          "name": "stdout",
          "text": [
            "2.0\n",
            "71.0\n"
          ]
        }
      ]
    },
    {
      "cell_type": "code",
      "source": [
        "#27\n",
        "female_survivors = titanic[(titanic['sex'] == 'female') & (titanic['survived'] == 1)]\n",
        "total_female_passengers = titanic[titanic['sex'] == 'female']\n",
        "\n",
        "print(len(female_survivors) / len(total_female_passengers))"
      ],
      "metadata": {
        "colab": {
          "base_uri": "https://localhost:8080/"
        },
        "id": "Rn0e-VqNy4dS",
        "outputId": "1bb8c654-f907-498b-d644-aaae7e650494"
      },
      "execution_count": null,
      "outputs": [
        {
          "output_type": "stream",
          "name": "stdout",
          "text": [
            "0.7420382165605095\n"
          ]
        }
      ]
    },
    {
      "cell_type": "code",
      "source": [
        "# 28\n",
        "print(titanic.isnull().sum())"
      ],
      "metadata": {
        "colab": {
          "base_uri": "https://localhost:8080/"
        },
        "id": "xbFNkNrkzWH8",
        "outputId": "3e0ab2f2-5ec1-424b-9746-452efe2e6524"
      },
      "execution_count": null,
      "outputs": [
        {
          "output_type": "stream",
          "name": "stdout",
          "text": [
            "survived         0\n",
            "pclass           0\n",
            "sex              0\n",
            "age            177\n",
            "sibsp            0\n",
            "parch            0\n",
            "fare             0\n",
            "embarked         2\n",
            "class            0\n",
            "who              0\n",
            "adult_male       0\n",
            "deck           688\n",
            "embark_town      2\n",
            "alive            0\n",
            "alone            0\n",
            "dtype: int64\n"
          ]
        }
      ]
    },
    {
      "cell_type": "code",
      "source": [
        "print(titanic.groupby('pclass')['survived'].mean())\n",
        "\n",
        "print(titanic.groupby('embarked')['survived'].mean())\n",
        "\n",
        "print(titanic.groupby('embarked')['survived'].mean())\n",
        "\n",
        "print(titanic['survived'].corr(titanic['pclass']))\n",
        "\n",
        "print(titanic['survived'].corr(titanic['fare']))"
      ],
      "metadata": {
        "colab": {
          "base_uri": "https://localhost:8080/"
        },
        "id": "q2exlm690LE6",
        "outputId": "384d6266-02ac-4f22-ea21-dfef1390b523"
      },
      "execution_count": null,
      "outputs": [
        {
          "output_type": "stream",
          "name": "stdout",
          "text": [
            "pclass\n",
            "1    0.629630\n",
            "2    0.472826\n",
            "3    0.242363\n",
            "Name: survived, dtype: float64\n",
            "embarked\n",
            "C    0.553571\n",
            "Q    0.389610\n",
            "S    0.336957\n",
            "Name: survived, dtype: float64\n",
            "embarked\n",
            "C    0.553571\n",
            "Q    0.389610\n",
            "S    0.336957\n",
            "Name: survived, dtype: float64\n",
            "-0.3384810359610148\n",
            "0.2573065223849625\n"
          ]
        }
      ]
    }
  ]
}